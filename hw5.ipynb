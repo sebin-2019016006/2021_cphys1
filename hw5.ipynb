{
 "cells": [
  {
   "cell_type": "markdown",
   "metadata": {},
   "source": [
    "#  1. Vibration in a one-dimensional system"
   ]
  },
  {
   "cell_type": "markdown",
   "metadata": {},
   "source": [
    "질량이 $m$인 $N$개의 동일한 물체가 일렬로 동일한 용수철에 매달려 있다. $i$번째 물체의 운동방정식은 다음처럼 주어진다.\n",
    "\n",
    "$$m \\frac{d^2 x_i}{dt^2} = k(x_{i+1}-x_{i}) - k(x_i-x_{i-1})$$"
   ]
  },
  {
   "cell_type": "markdown",
   "metadata": {},
   "source": [
    "한쪽 끝에서 연결된 용수철에 주기적인 힘($F$)을 가하고 있다. 그러면 양 끝단에 물체에 운동방정식은 다음과 같다.\n",
    "\n",
    "$$m \\frac{d^2 x_1}{dt^2} = k(x_{2}-x_{1}) + F \\\\\n",
    "m \\frac{d^2 x_N}{dt^2} = -k(x_{N}-x_{N-1})$$"
   ]
  },
  {
   "cell_type": "markdown",
   "metadata": {},
   "source": [
    "만약 주기적인 힘이 $F=C e^{i wt}$로 주어지면 $x$는 다음의 $x_i(t)=a_i e^{iwt}$해를 가진다. 정리하면 다음과 같은 방정식을 얻을 수 있다.\n",
    "$$(d -k)a_1 -k a_2 = C, \\\\\n",
    "d a_i - k a_{i-1}- k a_{i+1} = 0, \\\\\n",
    "(d - k)a_N - k x_{N-1} =0$$\n",
    "여기에서 $d=2k-mw^2$이다."
   ]
  },
  {
   "cell_type": "markdown",
   "metadata": {},
   "source": [
    "$$Ma=b $$$$\n",
    "M=\n",
    "\\begin{pmatrix}\n",
    "d-k & -k & 0 & 0 & 0 & \\cdots \\\\\n",
    "-k & d & -k & 0 & 0 & \\cdots \\\\\n",
    "0 & -k & d & -k & 0 & \\cdots \\\\\n",
    "\\cdots &\\cdots &\\cdots &\\cdots &\\cdots & \\cdots  \\\\\n",
    "0 & 0 & 0& 0& -k & d-k \n",
    "\\end{pmatrix}, \\quad\n",
    "a=\n",
    "\\begin{pmatrix}\n",
    "a_1 \\\\ \n",
    "a_2 \\\\ \n",
    "a_3 \\\\ \n",
    "\\cdots \\\\ \n",
    "a_N  \n",
    "\\end{pmatrix}, \\quad\n",
    "b=\n",
    "\\begin{pmatrix}\n",
    "C \\\\ \n",
    "0 \\\\ \n",
    "0 \\\\ \n",
    "\\cdots \\\\ \n",
    "0 \n",
    "\\end{pmatrix}\n",
    "$$"
   ]
  },
  {
   "cell_type": "markdown",
   "metadata": {},
   "source": [
    "$m=1$, $k=1$, $C=1$, $N=40$으로 고정하세요.\n",
    "$w$ (즉, d)를 바꾸어가면서 $a_i$를 구하세요.\n",
    "이를 그래프로 표현하고 의미를 설명하세요. x축이 i (1~N), y축이 $a_i$\n",
    "40X40 행렬을 직접 입력하는 것을 금지하지는 않지만 그렇게 하지 않기를 바랍니다.\n",
    "np.zeros(n) 함수는 크기가 n이며 모든 성분이 0인 배열을 만드는 명령어입니다."
   ]
  },
  {
   "cell_type": "code",
   "execution_count": 1,
   "metadata": {},
   "outputs": [],
   "source": [
    "#w=1인 경우"
   ]
  },
  {
   "cell_type": "code",
   "execution_count": 2,
   "metadata": {},
   "outputs": [
    {
     "name": "stdout",
     "output_type": "stream",
     "text": [
      "[[ 0. -1.  0. ...  0.  0.  0.]\n",
      " [-1.  1. -1. ...  0.  0.  0.]\n",
      " [ 0. -1.  1. ...  0.  0.  0.]\n",
      " ...\n",
      " [ 0.  0.  0. ...  1. -1.  0.]\n",
      " [ 0.  0.  0. ... -1.  1. -1.]\n",
      " [ 0.  0.  0. ...  0. -1.  0.]]\n",
      "[[-1. -1. -0. ... -1. -0.  1.]\n",
      " [-1. -0. -0. ... -0. -0. -0.]\n",
      " [ 0.  0.  0. ...  1.  0. -1.]\n",
      " ...\n",
      " [-1. -0.  1. ... -0. -0. -0.]\n",
      " [ 0.  0.  0. ...  0.  0. -1.]\n",
      " [ 1. -0. -1. ... -0. -1. -1.]]\n"
     ]
    }
   ],
   "source": [
    "m,k,w=1,1,1\n",
    "\n",
    "def d(w):\n",
    "    return (2*k)-(m*(w**2))\n",
    "\n",
    "\n",
    "import numpy as np\n",
    "\n",
    "ma1 = np.eye(40,40,0, dtype= float)\n",
    "for i in range(0,40):\n",
    "    for j in range(0,40):\n",
    "        if i == 0 and j == 0:\n",
    "            ma1[i][j] = d(w)-k\n",
    "            \n",
    "        elif i == 0 and j == 1:\n",
    "            ma1[i][j] =-k\n",
    "            \n",
    "        elif i == 39 and j == 38:\n",
    "            ma1[i][j] =-k\n",
    "            \n",
    "        elif i == 39 and j == 39:\n",
    "            ma1[i][j] = d(w)-k\n",
    "            \n",
    "        elif i == j+1:\n",
    "            ma1[i][j] =-k\n",
    "            \n",
    "        elif i == j:\n",
    "            ma1[i][j] = d(w)\n",
    "            \n",
    "        elif j == i+1:\n",
    "            ma1[i][j] =-k\n",
    "            \n",
    "for i in range(40):\n",
    "    for j in range(40):\n",
    "        if ma1[i][j] == '':\n",
    "            ma1[i][j] = '0'\n",
    "print(ma1)\n",
    "\n",
    "M_inv=np.linalg.inv(ma1)\n",
    "print(M_inv)"
   ]
  },
  {
   "cell_type": "code",
   "execution_count": 5,
   "metadata": {},
   "outputs": [
    {
     "name": "stdout",
     "output_type": "stream",
     "text": [
      "[[1.]\n",
      " [0.]\n",
      " [0.]\n",
      " [0.]\n",
      " [0.]\n",
      " [0.]\n",
      " [0.]\n",
      " [0.]\n",
      " [0.]\n",
      " [0.]\n",
      " [0.]\n",
      " [0.]\n",
      " [0.]\n",
      " [0.]\n",
      " [0.]\n",
      " [0.]\n",
      " [0.]\n",
      " [0.]\n",
      " [0.]\n",
      " [0.]\n",
      " [0.]\n",
      " [0.]\n",
      " [0.]\n",
      " [0.]\n",
      " [0.]\n",
      " [0.]\n",
      " [0.]\n",
      " [0.]\n",
      " [0.]\n",
      " [0.]\n",
      " [0.]\n",
      " [0.]\n",
      " [0.]\n",
      " [0.]\n",
      " [0.]\n",
      " [0.]\n",
      " [0.]\n",
      " [0.]\n",
      " [0.]\n",
      " [0.]]\n"
     ]
    }
   ],
   "source": [
    "C=1\n",
    "\n",
    "import numpy as np\n",
    "mb = np.eye(40,1,0, dtype= float)\n",
    "for i in range(0,40):\n",
    "    for j in range(1):\n",
    "        if i == 0:\n",
    "            mb[i][j] = C\n",
    "        else:\n",
    "            mb[i][j] = 0\n",
    "print(mb)\n",
    "\n",
    "k1=np.dot(M_inv,mb)"
   ]
  },
  {
   "cell_type": "code",
   "execution_count": 6,
   "metadata": {},
   "outputs": [],
   "source": [
    "#w=2인 경우"
   ]
  },
  {
   "cell_type": "code",
   "execution_count": 7,
   "metadata": {},
   "outputs": [
    {
     "name": "stdout",
     "output_type": "stream",
     "text": [
      "[[-3. -1.  0. ...  0.  0.  0.]\n",
      " [-1. -2. -1. ...  0.  0.  0.]\n",
      " [ 0. -1. -2. ...  0.  0.  0.]\n",
      " ...\n",
      " [ 0.  0.  0. ... -2. -1.  0.]\n",
      " [ 0.  0.  0. ... -1. -2. -1.]\n",
      " [ 0.  0.  0. ...  0. -1. -3.]]\n",
      "[[-0.49375  0.48125 -0.46875 ...  0.03125 -0.01875  0.00625]\n",
      " [ 0.48125 -1.44375  1.40625 ... -0.09375  0.05625 -0.01875]\n",
      " [-0.46875  1.40625 -2.34375 ...  0.15625 -0.09375  0.03125]\n",
      " ...\n",
      " [ 0.03125 -0.09375  0.15625 ... -2.34375  1.40625 -0.46875]\n",
      " [-0.01875  0.05625 -0.09375 ...  1.40625 -1.44375  0.48125]\n",
      " [ 0.00625 -0.01875  0.03125 ... -0.46875  0.48125 -0.49375]]\n"
     ]
    }
   ],
   "source": [
    "m,k,w=1,1,2\n",
    "\n",
    "def d(w):\n",
    "    return (2*k)-(m*(w**2))\n",
    "\n",
    "\n",
    "import numpy as np\n",
    "\n",
    "ma2 = np.eye(40,40,0, dtype= float)\n",
    "for i in range(0,40):\n",
    "    for j in range(0,40):\n",
    "        if i == 0 and j == 0:\n",
    "            ma2[i][j] = d(w)-k\n",
    "            \n",
    "        elif i == 0 and j == 1:\n",
    "            ma2[i][j] =-k\n",
    "            \n",
    "        elif i == 39 and j == 38:\n",
    "            ma2[i][j] =-k\n",
    "            \n",
    "        elif i == 39 and j == 39:\n",
    "            ma2[i][j] = d(w)-k\n",
    "            \n",
    "        elif i == j+1:\n",
    "            ma2[i][j] =-k\n",
    "            \n",
    "        elif i == j:\n",
    "            ma2[i][j] = d(w)\n",
    "            \n",
    "        elif j == i+1:\n",
    "            ma2[i][j] =-k\n",
    "            \n",
    "for i in range(40):\n",
    "    for j in range(40):\n",
    "        if ma2[i][j] == '':\n",
    "            ma2[i][j] = '0'\n",
    "print(ma2)\n",
    "\n",
    "M_inv2=np.linalg.inv(ma2)\n",
    "print(M_inv2)"
   ]
  },
  {
   "cell_type": "code",
   "execution_count": 8,
   "metadata": {},
   "outputs": [
    {
     "name": "stdout",
     "output_type": "stream",
     "text": [
      "[[1.]\n",
      " [0.]\n",
      " [0.]\n",
      " [0.]\n",
      " [0.]\n",
      " [0.]\n",
      " [0.]\n",
      " [0.]\n",
      " [0.]\n",
      " [0.]\n",
      " [0.]\n",
      " [0.]\n",
      " [0.]\n",
      " [0.]\n",
      " [0.]\n",
      " [0.]\n",
      " [0.]\n",
      " [0.]\n",
      " [0.]\n",
      " [0.]\n",
      " [0.]\n",
      " [0.]\n",
      " [0.]\n",
      " [0.]\n",
      " [0.]\n",
      " [0.]\n",
      " [0.]\n",
      " [0.]\n",
      " [0.]\n",
      " [0.]\n",
      " [0.]\n",
      " [0.]\n",
      " [0.]\n",
      " [0.]\n",
      " [0.]\n",
      " [0.]\n",
      " [0.]\n",
      " [0.]\n",
      " [0.]\n",
      " [0.]]\n"
     ]
    }
   ],
   "source": [
    "C=1\n",
    "\n",
    "import numpy as np\n",
    "mb2 = np.eye(40,1,0, dtype= float)\n",
    "for i in range(0,40):\n",
    "    for j in range(1):\n",
    "        if i == 0:\n",
    "            mb2[i][j] = C\n",
    "        else:\n",
    "            mb2[i][j] = 0\n",
    "print(mb2)\n",
    "\n",
    "k2=np.dot(M_inv2,mb2)"
   ]
  },
  {
   "cell_type": "code",
   "execution_count": 9,
   "metadata": {},
   "outputs": [],
   "source": [
    "#w=3인 경우"
   ]
  },
  {
   "cell_type": "code",
   "execution_count": 10,
   "metadata": {},
   "outputs": [
    {
     "name": "stdout",
     "output_type": "stream",
     "text": [
      "[[-8. -1.  0. ...  0.  0.  0.]\n",
      " [-1. -7. -1. ...  0.  0.  0.]\n",
      " [ 0. -1. -7. ...  0.  0.  0.]\n",
      " ...\n",
      " [ 0.  0.  0. ... -7. -1.  0.]\n",
      " [ 0.  0.  0. ... -1. -7. -1.]\n",
      " [ 0.  0.  0. ...  0. -1. -8.]]\n",
      "[[-1.27322004e-01  1.85760300e-02 -2.71020625e-03 ...  1.49521621e-32\n",
      "  -2.17485994e-33  2.71857493e-34]\n",
      " [ 1.85760300e-02 -1.48608240e-01  2.16816500e-02 ... -1.19617297e-31\n",
      "   1.73988795e-32 -2.17485994e-33]\n",
      " [-2.71020625e-03  2.16816500e-02 -1.49061344e-01 ...  8.22368916e-31\n",
      "  -1.19617297e-31  1.49521621e-32]\n",
      " ...\n",
      " [ 1.49521621e-32 -1.19617297e-31  8.22368916e-31 ... -1.49061344e-01\n",
      "   2.16816500e-02 -2.71020625e-03]\n",
      " [-2.17485994e-33  1.73988795e-32 -1.19617297e-31 ...  2.16816500e-02\n",
      "  -1.48608240e-01  1.85760300e-02]\n",
      " [ 2.71857493e-34 -2.17485994e-33  1.49521621e-32 ... -2.71020625e-03\n",
      "   1.85760300e-02 -1.27322004e-01]]\n"
     ]
    }
   ],
   "source": [
    "m,k,w=1,1,3\n",
    "\n",
    "def d(w):\n",
    "    return (2*k)-(m*(w**2))\n",
    "\n",
    "\n",
    "import numpy as np\n",
    "\n",
    "ma3 = np.eye(40,40,0, dtype= float)\n",
    "for i in range(0,40):\n",
    "    for j in range(0,40):\n",
    "        if i == 0 and j == 0:\n",
    "            ma3[i][j] = d(w)-k\n",
    "            \n",
    "        elif i == 0 and j == 1:\n",
    "            ma3[i][j] =-k\n",
    "            \n",
    "        elif i == 39 and j == 38:\n",
    "            ma3[i][j] =-k\n",
    "            \n",
    "        elif i == 39 and j == 39:\n",
    "            ma3[i][j] = d(w)-k\n",
    "            \n",
    "        elif i == j+1:\n",
    "            ma3[i][j] =-k\n",
    "            \n",
    "        elif i == j:\n",
    "            ma3[i][j] = d(w)\n",
    "            \n",
    "        elif j == i+1:\n",
    "            ma3[i][j] =-k\n",
    "            \n",
    "for i in range(40):\n",
    "    for j in range(40):\n",
    "        if ma3[i][j] == '':\n",
    "            ma3[i][j] = '0'\n",
    "print(ma3)\n",
    "\n",
    "M_inv3=np.linalg.inv(ma3)\n",
    "print(M_inv3)"
   ]
  },
  {
   "cell_type": "code",
   "execution_count": 11,
   "metadata": {},
   "outputs": [
    {
     "name": "stdout",
     "output_type": "stream",
     "text": [
      "[[1.]\n",
      " [0.]\n",
      " [0.]\n",
      " [0.]\n",
      " [0.]\n",
      " [0.]\n",
      " [0.]\n",
      " [0.]\n",
      " [0.]\n",
      " [0.]\n",
      " [0.]\n",
      " [0.]\n",
      " [0.]\n",
      " [0.]\n",
      " [0.]\n",
      " [0.]\n",
      " [0.]\n",
      " [0.]\n",
      " [0.]\n",
      " [0.]\n",
      " [0.]\n",
      " [0.]\n",
      " [0.]\n",
      " [0.]\n",
      " [0.]\n",
      " [0.]\n",
      " [0.]\n",
      " [0.]\n",
      " [0.]\n",
      " [0.]\n",
      " [0.]\n",
      " [0.]\n",
      " [0.]\n",
      " [0.]\n",
      " [0.]\n",
      " [0.]\n",
      " [0.]\n",
      " [0.]\n",
      " [0.]\n",
      " [0.]]\n"
     ]
    }
   ],
   "source": [
    "C=1\n",
    "\n",
    "import numpy as np\n",
    "mb3 = np.eye(40,1,0, dtype= float)\n",
    "for i in range(0,40):\n",
    "    for j in range(1):\n",
    "        if i == 0:\n",
    "            mb3[i][j] = C\n",
    "        else:\n",
    "            mb3[i][j] = 0\n",
    "print(mb3)\n",
    "\n",
    "k3=np.dot(M_inv3,mb3)"
   ]
  },
  {
   "cell_type": "code",
   "execution_count": 12,
   "metadata": {},
   "outputs": [
    {
     "data": {
      "text/plain": [
       "<matplotlib.legend.Legend at 0x2c520e09e50>"
      ]
     },
     "execution_count": 12,
     "metadata": {},
     "output_type": "execute_result"
    },
    {
     "data": {
      "image/png": "[encoded data removed]",
      "text/plain": [
       "<Figure size 432x288 with 1 Axes>"
      ]
     },
     "metadata": {
      "needs_background": "light"
     },
     "output_type": "display_data"
    }
   ],
   "source": [
    "import matplotlib.pyplot as plt\n",
    "\n",
    "plt.plot(k1,label='w=1')\n",
    "plt.plot(k2,label='w=2')\n",
    "plt.plot(k3,label='w=3')\n",
    "plt.legend()\n",
    "\n",
    "#따라서 w가 커질수록 x가 증가함에 따라 ai의 값은 0으로 수렴한다는 것을 알 수 있다. "
   ]
  },
  {
   "cell_type": "markdown",
   "metadata": {},
   "source": [
    "# 2. 양쪽 끝에서 힘을 가하면 어떻게 되는가?"
   ]
  },
  {
   "cell_type": "markdown",
   "metadata": {},
   "source": [
    "즉, b행렬이 다음과 같은 경우에 대해서 살펴보아라.\n",
    "\n",
    "$$\n",
    "b=\n",
    "\\begin{pmatrix}\n",
    "C \\\\ \n",
    "0 \\\\ \n",
    "0 \\\\ \n",
    "\\cdots \\\\ \n",
    "C \n",
    "\\end{pmatrix}\n",
    "$$"
   ]
  },
  {
   "cell_type": "markdown",
   "metadata": {},
   "source": [
    "$m=1$, $k=1$, $C=1$, $N=40$으로 고정하세요.\n",
    "$w$ (즉, d)를 바꾸어가면서 $a_i$를 구하세요.\n",
    "이를 그래프로 표현하고 의미를 설명하세요."
   ]
  },
  {
   "cell_type": "code",
   "execution_count": 13,
   "metadata": {},
   "outputs": [],
   "source": [
    "#w=1인 경우"
   ]
  },
  {
   "cell_type": "code",
   "execution_count": 14,
   "metadata": {},
   "outputs": [
    {
     "name": "stdout",
     "output_type": "stream",
     "text": [
      "[[ 0. -1.  0. ...  0.  0.  0.]\n",
      " [-1.  1. -1. ...  0.  0.  0.]\n",
      " [ 0. -1.  1. ...  0.  0.  0.]\n",
      " ...\n",
      " [ 0.  0.  0. ...  1. -1.  0.]\n",
      " [ 0.  0.  0. ... -1.  1. -1.]\n",
      " [ 0.  0.  0. ...  0. -1.  0.]]\n",
      "[[-1. -1. -0. ... -1. -0.  1.]\n",
      " [-1. -0. -0. ... -0. -0. -0.]\n",
      " [ 0.  0.  0. ...  1.  0. -1.]\n",
      " ...\n",
      " [-1. -0.  1. ... -0. -0. -0.]\n",
      " [ 0.  0.  0. ...  0.  0. -1.]\n",
      " [ 1. -0. -1. ... -0. -1. -1.]]\n"
     ]
    }
   ],
   "source": [
    "m,k,w=1,1,1\n",
    "\n",
    "def d(w):\n",
    "    return (2*k)-(m*(w**2))\n",
    "\n",
    "\n",
    "import numpy as np\n",
    "\n",
    "ma4 = np.eye(40,40,0, dtype= float)\n",
    "for i in range(0,40):\n",
    "    for j in range(0,40):\n",
    "        if i == 0 and j == 0:\n",
    "            ma4[i][j] = d(w)-k\n",
    "            \n",
    "        elif i == 0 and j == 1:\n",
    "            ma4[i][j] =-k\n",
    "            \n",
    "        elif i == 39 and j == 38:\n",
    "            ma4[i][j] =-k\n",
    "            \n",
    "        elif i == 39 and j == 39:\n",
    "            ma4[i][j] = d(w)-k\n",
    "            \n",
    "        elif i == j+1:\n",
    "            ma4[i][j] =-k\n",
    "            \n",
    "        elif i == j:\n",
    "            ma4[i][j] = d(w)\n",
    "            \n",
    "        elif j == i+1:\n",
    "            ma4[i][j] =-k\n",
    "            \n",
    "for i in range(40):\n",
    "    for j in range(40):\n",
    "        if ma4[i][j] == '':\n",
    "            ma4[i][j] = '0'\n",
    "print(ma4)\n",
    "\n",
    "M_inv4=np.linalg.inv(ma4)\n",
    "print(M_inv4)"
   ]
  },
  {
   "cell_type": "code",
   "execution_count": 15,
   "metadata": {},
   "outputs": [
    {
     "name": "stdout",
     "output_type": "stream",
     "text": [
      "[[1.]\n",
      " [0.]\n",
      " [0.]\n",
      " [0.]\n",
      " [0.]\n",
      " [0.]\n",
      " [0.]\n",
      " [0.]\n",
      " [0.]\n",
      " [0.]\n",
      " [0.]\n",
      " [0.]\n",
      " [0.]\n",
      " [0.]\n",
      " [0.]\n",
      " [0.]\n",
      " [0.]\n",
      " [0.]\n",
      " [0.]\n",
      " [0.]\n",
      " [0.]\n",
      " [0.]\n",
      " [0.]\n",
      " [0.]\n",
      " [0.]\n",
      " [0.]\n",
      " [0.]\n",
      " [0.]\n",
      " [0.]\n",
      " [0.]\n",
      " [0.]\n",
      " [0.]\n",
      " [0.]\n",
      " [0.]\n",
      " [0.]\n",
      " [0.]\n",
      " [0.]\n",
      " [0.]\n",
      " [0.]\n",
      " [1.]]\n"
     ]
    }
   ],
   "source": [
    "C=1\n",
    "\n",
    "import numpy as np\n",
    "mb4 = np.eye(40,1,0, dtype= float)\n",
    "for i in range(0,40):\n",
    "    for j in range(1):\n",
    "        if i == 0:\n",
    "            mb4[i][j] = C\n",
    "        elif i == 39:\n",
    "            mb4[i][j] = C\n",
    "        else:\n",
    "            mb4[i][j] = 0\n",
    "print(mb4)\n",
    "\n",
    "k4=np.dot(M_inv4,mb4)"
   ]
  },
  {
   "cell_type": "code",
   "execution_count": 16,
   "metadata": {},
   "outputs": [],
   "source": [
    "#w=2인 경우"
   ]
  },
  {
   "cell_type": "code",
   "execution_count": 17,
   "metadata": {},
   "outputs": [
    {
     "name": "stdout",
     "output_type": "stream",
     "text": [
      "[[-3. -1.  0. ...  0.  0.  0.]\n",
      " [-1. -2. -1. ...  0.  0.  0.]\n",
      " [ 0. -1. -2. ...  0.  0.  0.]\n",
      " ...\n",
      " [ 0.  0.  0. ... -2. -1.  0.]\n",
      " [ 0.  0.  0. ... -1. -2. -1.]\n",
      " [ 0.  0.  0. ...  0. -1. -3.]]\n",
      "[[-0.49375  0.48125 -0.46875 ...  0.03125 -0.01875  0.00625]\n",
      " [ 0.48125 -1.44375  1.40625 ... -0.09375  0.05625 -0.01875]\n",
      " [-0.46875  1.40625 -2.34375 ...  0.15625 -0.09375  0.03125]\n",
      " ...\n",
      " [ 0.03125 -0.09375  0.15625 ... -2.34375  1.40625 -0.46875]\n",
      " [-0.01875  0.05625 -0.09375 ...  1.40625 -1.44375  0.48125]\n",
      " [ 0.00625 -0.01875  0.03125 ... -0.46875  0.48125 -0.49375]]\n"
     ]
    }
   ],
   "source": [
    "m,k,w=1,1,2\n",
    "\n",
    "def d(w):\n",
    "    return (2*k)-(m*(w**2))\n",
    "\n",
    "\n",
    "import numpy as np\n",
    "\n",
    "ma5 = np.eye(40,40,0, dtype= float)\n",
    "for i in range(0,40):\n",
    "    for j in range(0,40):\n",
    "        if i == 0 and j == 0:\n",
    "            ma5[i][j] = d(w)-k\n",
    "            \n",
    "        elif i == 0 and j == 1:\n",
    "            ma5[i][j] =-k\n",
    "            \n",
    "        elif i == 39 and j == 38:\n",
    "            ma5[i][j] =-k\n",
    "            \n",
    "        elif i == 39 and j == 39:\n",
    "            ma5[i][j] = d(w)-k\n",
    "            \n",
    "        elif i == j+1:\n",
    "            ma5[i][j] =-k\n",
    "            \n",
    "        elif i == j:\n",
    "            ma5[i][j] = d(w)\n",
    "            \n",
    "        elif j == i+1:\n",
    "            ma5[i][j] =-k\n",
    "            \n",
    "for i in range(40):\n",
    "    for j in range(40):\n",
    "        if ma5[i][j] == '':\n",
    "            ma5[i][j] = '0'\n",
    "print(ma5)\n",
    "\n",
    "M_inv5=np.linalg.inv(ma5)\n",
    "print(M_inv5)"
   ]
  },
  {
   "cell_type": "code",
   "execution_count": 18,
   "metadata": {},
   "outputs": [
    {
     "name": "stdout",
     "output_type": "stream",
     "text": [
      "[[1.]\n",
      " [0.]\n",
      " [0.]\n",
      " [0.]\n",
      " [0.]\n",
      " [0.]\n",
      " [0.]\n",
      " [0.]\n",
      " [0.]\n",
      " [0.]\n",
      " [0.]\n",
      " [0.]\n",
      " [0.]\n",
      " [0.]\n",
      " [0.]\n",
      " [0.]\n",
      " [0.]\n",
      " [0.]\n",
      " [0.]\n",
      " [0.]\n",
      " [0.]\n",
      " [0.]\n",
      " [0.]\n",
      " [0.]\n",
      " [0.]\n",
      " [0.]\n",
      " [0.]\n",
      " [0.]\n",
      " [0.]\n",
      " [0.]\n",
      " [0.]\n",
      " [0.]\n",
      " [0.]\n",
      " [0.]\n",
      " [0.]\n",
      " [0.]\n",
      " [0.]\n",
      " [0.]\n",
      " [0.]\n",
      " [1.]]\n"
     ]
    }
   ],
   "source": [
    "C=1\n",
    "\n",
    "import numpy as np\n",
    "mb5 = np.eye(40,1,0, dtype= float)\n",
    "for i in range(0,40):\n",
    "    for j in range(1):\n",
    "        if i == 0:\n",
    "            mb5[i][j] = C\n",
    "        elif i == 39:\n",
    "            mb5[i][j] = C\n",
    "        else:\n",
    "            mb5[i][j] = 0\n",
    "print(mb5)\n",
    "\n",
    "k5=np.dot(M_inv5,mb5)"
   ]
  },
  {
   "cell_type": "code",
   "execution_count": 19,
   "metadata": {},
   "outputs": [],
   "source": [
    "#w=3인 경우"
   ]
  },
  {
   "cell_type": "code",
   "execution_count": 20,
   "metadata": {},
   "outputs": [
    {
     "name": "stdout",
     "output_type": "stream",
     "text": [
      "[[-8. -1.  0. ...  0.  0.  0.]\n",
      " [-1. -7. -1. ...  0.  0.  0.]\n",
      " [ 0. -1. -7. ...  0.  0.  0.]\n",
      " ...\n",
      " [ 0.  0.  0. ... -7. -1.  0.]\n",
      " [ 0.  0.  0. ... -1. -7. -1.]\n",
      " [ 0.  0.  0. ...  0. -1. -8.]]\n",
      "[[-1.27322004e-01  1.85760300e-02 -2.71020625e-03 ...  1.49521621e-32\n",
      "  -2.17485994e-33  2.71857493e-34]\n",
      " [ 1.85760300e-02 -1.48608240e-01  2.16816500e-02 ... -1.19617297e-31\n",
      "   1.73988795e-32 -2.17485994e-33]\n",
      " [-2.71020625e-03  2.16816500e-02 -1.49061344e-01 ...  8.22368916e-31\n",
      "  -1.19617297e-31  1.49521621e-32]\n",
      " ...\n",
      " [ 1.49521621e-32 -1.19617297e-31  8.22368916e-31 ... -1.49061344e-01\n",
      "   2.16816500e-02 -2.71020625e-03]\n",
      " [-2.17485994e-33  1.73988795e-32 -1.19617297e-31 ...  2.16816500e-02\n",
      "  -1.48608240e-01  1.85760300e-02]\n",
      " [ 2.71857493e-34 -2.17485994e-33  1.49521621e-32 ... -2.71020625e-03\n",
      "   1.85760300e-02 -1.27322004e-01]]\n"
     ]
    }
   ],
   "source": [
    "m,k,w=1,1,3\n",
    "\n",
    "def d(w):\n",
    "    return (2*k)-(m*(w**2))\n",
    "\n",
    "\n",
    "import numpy as np\n",
    "\n",
    "ma6 = np.eye(40,40,0, dtype= float)\n",
    "for i in range(0,40):\n",
    "    for j in range(0,40):\n",
    "        if i == 0 and j == 0:\n",
    "            ma6[i][j] = d(w)-k\n",
    "            \n",
    "        elif i == 0 and j == 1:\n",
    "            ma6[i][j] =-k\n",
    "            \n",
    "        elif i == 39 and j == 38:\n",
    "            ma6[i][j] =-k\n",
    "            \n",
    "        elif i == 39 and j == 39:\n",
    "            ma6[i][j] = d(w)-k\n",
    "            \n",
    "        elif i == j+1:\n",
    "            ma6[i][j] =-k\n",
    "            \n",
    "        elif i == j:\n",
    "            ma6[i][j] = d(w)\n",
    "            \n",
    "        elif j == i+1:\n",
    "            ma6[i][j] =-k\n",
    "            \n",
    "for i in range(40):\n",
    "    for j in range(40):\n",
    "        if ma6[i][j] == '':\n",
    "            ma6[i][j] = '0'\n",
    "print(ma6)\n",
    "\n",
    "M_inv6=np.linalg.inv(ma6)\n",
    "print(M_inv6)"
   ]
  },
  {
   "cell_type": "code",
   "execution_count": 21,
   "metadata": {},
   "outputs": [
    {
     "name": "stdout",
     "output_type": "stream",
     "text": [
      "[[1.]\n",
      " [0.]\n",
      " [0.]\n",
      " [0.]\n",
      " [0.]\n",
      " [0.]\n",
      " [0.]\n",
      " [0.]\n",
      " [0.]\n",
      " [0.]\n",
      " [0.]\n",
      " [0.]\n",
      " [0.]\n",
      " [0.]\n",
      " [0.]\n",
      " [0.]\n",
      " [0.]\n",
      " [0.]\n",
      " [0.]\n",
      " [0.]\n",
      " [0.]\n",
      " [0.]\n",
      " [0.]\n",
      " [0.]\n",
      " [0.]\n",
      " [0.]\n",
      " [0.]\n",
      " [0.]\n",
      " [0.]\n",
      " [0.]\n",
      " [0.]\n",
      " [0.]\n",
      " [0.]\n",
      " [0.]\n",
      " [0.]\n",
      " [0.]\n",
      " [0.]\n",
      " [0.]\n",
      " [0.]\n",
      " [1.]]\n"
     ]
    }
   ],
   "source": [
    "C=1\n",
    "\n",
    "import numpy as np\n",
    "mb6 = np.eye(40,1,0, dtype= float)\n",
    "for i in range(0,40):\n",
    "    for j in range(1):\n",
    "        if i == 0:\n",
    "            mb6[i][j] = C\n",
    "        elif i == 39:\n",
    "            mb6[i][j] = C\n",
    "        else:\n",
    "            mb6[i][j] = 0\n",
    "print(mb6)\n",
    "\n",
    "k6=np.dot(M_inv6,mb6)"
   ]
  },
  {
   "cell_type": "code",
   "execution_count": 22,
   "metadata": {},
   "outputs": [
    {
     "data": {
      "text/plain": [
       "<matplotlib.legend.Legend at 0x2c520ee6d90>"
      ]
     },
     "execution_count": 22,
     "metadata": {},
     "output_type": "execute_result"
    },
    {
     "data": {
      "image/png": "[encoded data removed]",
      "text/plain": [
       "<Figure size 432x288 with 1 Axes>"
      ]
     },
     "metadata": {
      "needs_background": "light"
     },
     "output_type": "display_data"
    }
   ],
   "source": [
    "import matplotlib.pyplot as plt\n",
    "\n",
    "plt.plot(k4,label='w=1')\n",
    "plt.plot(k5,label='w=2')\n",
    "plt.plot(k6,label='w=3')\n",
    "plt.legend()\n",
    "\n",
    "# 이번 경우는 양쪽에서 힘을 가하기 때문에 중심에서 0으로 수렴하는 것을 확인할 수 있다."
   ]
  },
  {
   "cell_type": "code",
   "execution_count": null,
   "metadata": {},
   "outputs": [],
   "source": []
  }
 ],
 "metadata": {
  "kernelspec": {
   "display_name": "Python 3",
   "language": "python",
   "name": "python3"
  },
  "language_info": {
   "codemirror_mode": {
    "name": "ipython",
    "version": 3
   },
   "file_extension": ".py",
   "mimetype": "text/x-python",
   "name": "python",
   "nbconvert_exporter": "python",
   "pygments_lexer": "ipython3",
   "version": "3.8.5"
  }
 },
 "nbformat": 4,
 "nbformat_minor": 4
}
