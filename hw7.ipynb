{
 "cells": [
  {
   "cell_type": "markdown",
   "metadata": {},
   "source": [
    "# Pauli Matrices"
   ]
  },
  {
   "cell_type": "markdown",
   "metadata": {},
   "source": [
    "파울리 행렬의 아이겐밸류와 아이겐벡터를 구하시오.\n",
    "\n",
    "$$ s_x = \\begin{pmatrix} 0 & 1 \\\\ 1 & 0 \\end{pmatrix}, \\quad\n",
    "s_y = \\begin{pmatrix} 0 & -j \\\\ j & 0 \\end{pmatrix}, \\quad\n",
    "s_z  = \\begin{pmatrix} 1 & 0 \\\\ 0 & -1 \\end{pmatrix}. $$"
   ]
  },
  {
   "cell_type": "code",
   "execution_count": 21,
   "metadata": {},
   "outputs": [
    {
     "data": {
      "text/plain": [
       "(array([ 1., -1.]),\n",
       " array([[ 0.70710678, -0.70710678],\n",
       "        [ 0.70710678,  0.70710678]]))"
      ]
     },
     "execution_count": 21,
     "metadata": {},
     "output_type": "execute_result"
    }
   ],
   "source": [
    "%matplotlib inline\n",
    "import matplotlib.pyplot as plt\n",
    "import numpy as np\n",
    "\n",
    "sx=np.array([[0,1],[1,0]])\n",
    "ex=np.linalg.eig(sx)\n",
    "\n",
    "ex"
   ]
  },
  {
   "cell_type": "code",
   "execution_count": 22,
   "metadata": {},
   "outputs": [
    {
     "data": {
      "text/plain": [
       "(array([ 1.+0.j, -1.+0.j]),\n",
       " array([[-0.        -0.70710678j,  0.70710678+0.j        ],\n",
       "        [ 0.70710678+0.j        ,  0.        -0.70710678j]]))"
      ]
     },
     "execution_count": 22,
     "metadata": {},
     "output_type": "execute_result"
    }
   ],
   "source": [
    "%matplotlib inline\n",
    "import matplotlib.pyplot as plt\n",
    "import numpy as np\n",
    "\n",
    "j=1j\n",
    "sy=np.array([[0,-j],[j,0]])\n",
    "ey=np.linalg.eig(sy)\n",
    "\n",
    "ey"
   ]
  },
  {
   "cell_type": "code",
   "execution_count": 23,
   "metadata": {},
   "outputs": [
    {
     "data": {
      "text/plain": [
       "(array([ 1., -1.]),\n",
       " array([[1., 0.],\n",
       "        [0., 1.]]))"
      ]
     },
     "execution_count": 23,
     "metadata": {},
     "output_type": "execute_result"
    }
   ],
   "source": [
    "%matplotlib inline\n",
    "import matplotlib.pyplot as plt\n",
    "import numpy as np\n",
    "\n",
    "sz=np.array([[1,0],[0,-1]])\n",
    "ez=np.linalg.eig(sz)\n",
    "\n",
    "ez"
   ]
  },
  {
   "cell_type": "markdown",
   "metadata": {},
   "source": [
    "# Normal Modes"
   ]
  },
  {
   "cell_type": "markdown",
   "metadata": {},
   "source": [
    "용수철 상수가 $k$인 용수철에 연결된 두 개의 물체의 노말 모드를 구해보자. 두 개의 물체의 운동방정식은 다음으로 주어진다.$$ -m w^2 x_1 = -2kx_1 +k x_2, \\\\\n",
    "-m w^2 x_2 = k x_1 - 2 k x_2.$$"
   ]
  },
  {
   "cell_type": "markdown",
   "metadata": {},
   "source": [
    "eigenfrequencies $w$는 다음의 행렬식을 통해 구할 수 있다.$$ \\frac{k}{m w^2} \\begin{pmatrix} 2 & -1 \\\\ -1 & 2 \\end{pmatrix} \n",
    "\\begin{pmatrix} x_1 \\\\ x_2 \\end{pmatrix}=\n",
    "\\lambda \\begin{pmatrix} x_1 \\\\ x_2 \\end{pmatrix} $$"
   ]
  },
  {
   "cell_type": "markdown",
   "metadata": {},
   "source": [
    "1. 고윳값"
   ]
  },
  {
   "cell_type": "code",
   "execution_count": 24,
   "metadata": {},
   "outputs": [
    {
     "data": {
      "text/plain": [
       "(array([3., 1.]),\n",
       " array([[ 0.70710678,  0.70710678],\n",
       "        [-0.70710678,  0.70710678]]))"
      ]
     },
     "execution_count": 24,
     "metadata": {},
     "output_type": "execute_result"
    }
   ],
   "source": [
    "%matplotlib inline\n",
    "import matplotlib.pyplot as plt\n",
    "import numpy as np\n",
    "\n",
    "s1=np.array([[2,-1],[-1,2]])\n",
    "e1=np.linalg.eig(s1)\n",
    "\n",
    "e1"
   ]
  },
  {
   "cell_type": "markdown",
   "metadata": {},
   "source": [
    "따라서 eigenfrequencies는$$ w_1 = \\sqrt{\\frac{k}{m}}, \\quad w_2 = \\sqrt{\\frac{3k}{m}}. $$\n",
    "\n",
    "위에서 구한 아이겐벡터와 아이겐밸류의 의미를 설명하여라."
   ]
  },
  {
   "cell_type": "markdown",
   "metadata": {},
   "source": [
    ": 행렬식을 0으로 두고 방정식을 풀어냈을 때의 해가 고유진동수이다. 아이겐벨류가 3과 1이고, 그것들을 각각 람다에 대입해 풀면\n",
    "$$ w_1 = \\sqrt{\\frac{k}{m}}, \\quad w_2 = \\sqrt{\\frac{3k}{m}}. $$\n",
    "위와 같은 형태가 나온다."
   ]
  },
  {
   "cell_type": "markdown",
   "metadata": {},
   "source": [
    "진동수에 위에서 구한 값을 대입하면 x1과 x2의 비율을 알 수 있다.\n",
    "람다가 1일 경우, kx1=kx2이므로 x1=x2 이다.\n",
    "람다가 3일 경우, -kx1=kx2이므로 -x1=x2 이다.\n",
    "따라서 $$ \\begin{pmatrix} 1 & -1 \\\\ 1 & 1 \\end{pmatrix}, \\quad $$이 되며, x1과 x2의 크기를 더하고 루트를 씌워준 후 나누어주면 위에서 구한 아이겐벡터를 구해낼 수 있다."
   ]
  },
  {
   "cell_type": "code",
   "execution_count": null,
   "metadata": {},
   "outputs": [],
   "source": []
  }
 ],
 "metadata": {
  "kernelspec": {
   "display_name": "Python 3",
   "language": "python",
   "name": "python3"
  },
  "language_info": {
   "codemirror_mode": {
    "name": "ipython",
    "version": 3
   },
   "file_extension": ".py",
   "mimetype": "text/x-python",
   "name": "python",
   "nbconvert_exporter": "python",
   "pygments_lexer": "ipython3",
   "version": "3.8.5"
  }
 },
 "nbformat": 4,
 "nbformat_minor": 4
}
