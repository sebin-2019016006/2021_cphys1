{
 "cells": [
  {
   "cell_type": "markdown",
   "metadata": {},
   "source": [
    "# Leibniz Pi formula"
   ]
  },
  {
   "cell_type": "markdown",
   "metadata": {},
   "source": [
    "1.함수"
   ]
  },
  {
   "cell_type": "code",
   "execution_count": 1,
   "metadata": {},
   "outputs": [],
   "source": [
    "def f(x):\n",
    "    y=(1/(2*x-1))*(-1)**(x+1)\n",
    "    \n",
    "    return y"
   ]
  },
  {
   "cell_type": "code",
   "execution_count": 2,
   "metadata": {},
   "outputs": [],
   "source": [
    "n=101\n",
    "fn=[]\n",
    "\n",
    "for x in range(1,n,1):\n",
    "    fn.append(f(x))"
   ]
  },
  {
   "cell_type": "code",
   "execution_count": 3,
   "metadata": {},
   "outputs": [
    {
     "data": {
      "text/plain": [
       "[1.0,\n",
       " -0.3333333333333333,\n",
       " 0.2,\n",
       " -0.14285714285714285,\n",
       " 0.1111111111111111,\n",
       " -0.09090909090909091,\n",
       " 0.07692307692307693,\n",
       " -0.06666666666666667,\n",
       " 0.058823529411764705,\n",
       " -0.05263157894736842,\n",
       " 0.047619047619047616,\n",
       " -0.043478260869565216,\n",
       " 0.04,\n",
       " -0.037037037037037035,\n",
       " 0.034482758620689655,\n",
       " -0.03225806451612903,\n",
       " 0.030303030303030304,\n",
       " -0.02857142857142857,\n",
       " 0.02702702702702703,\n",
       " -0.02564102564102564,\n",
       " 0.024390243902439025,\n",
       " -0.023255813953488372,\n",
       " 0.022222222222222223,\n",
       " -0.02127659574468085,\n",
       " 0.02040816326530612,\n",
       " -0.0196078431372549,\n",
       " 0.018867924528301886,\n",
       " -0.01818181818181818,\n",
       " 0.017543859649122806,\n",
       " -0.01694915254237288,\n",
       " 0.01639344262295082,\n",
       " -0.015873015873015872,\n",
       " 0.015384615384615385,\n",
       " -0.014925373134328358,\n",
       " 0.014492753623188406,\n",
       " -0.014084507042253521,\n",
       " 0.0136986301369863,\n",
       " -0.013333333333333334,\n",
       " 0.012987012987012988,\n",
       " -0.012658227848101266,\n",
       " 0.012345679012345678,\n",
       " -0.012048192771084338,\n",
       " 0.011764705882352941,\n",
       " -0.011494252873563218,\n",
       " 0.011235955056179775,\n",
       " -0.01098901098901099,\n",
       " 0.010752688172043012,\n",
       " -0.010526315789473684,\n",
       " 0.010309278350515464,\n",
       " -0.010101010101010102,\n",
       " 0.009900990099009901,\n",
       " -0.009708737864077669,\n",
       " 0.009523809523809525,\n",
       " -0.009345794392523364,\n",
       " 0.009174311926605505,\n",
       " -0.009009009009009009,\n",
       " 0.008849557522123894,\n",
       " -0.008695652173913044,\n",
       " 0.008547008547008548,\n",
       " -0.008403361344537815,\n",
       " 0.008264462809917356,\n",
       " -0.008130081300813009,\n",
       " 0.008,\n",
       " -0.007874015748031496,\n",
       " 0.007751937984496124,\n",
       " -0.007633587786259542,\n",
       " 0.007518796992481203,\n",
       " -0.007407407407407408,\n",
       " 0.0072992700729927005,\n",
       " -0.007194244604316547,\n",
       " 0.0070921985815602835,\n",
       " -0.006993006993006993,\n",
       " 0.006896551724137931,\n",
       " -0.006802721088435374,\n",
       " 0.006711409395973154,\n",
       " -0.006622516556291391,\n",
       " 0.006535947712418301,\n",
       " -0.0064516129032258064,\n",
       " 0.006369426751592357,\n",
       " -0.006289308176100629,\n",
       " 0.006211180124223602,\n",
       " -0.006134969325153374,\n",
       " 0.006060606060606061,\n",
       " -0.005988023952095809,\n",
       " 0.005917159763313609,\n",
       " -0.005847953216374269,\n",
       " 0.005780346820809248,\n",
       " -0.005714285714285714,\n",
       " 0.005649717514124294,\n",
       " -0.00558659217877095,\n",
       " 0.0055248618784530384,\n",
       " -0.00546448087431694,\n",
       " 0.005405405405405406,\n",
       " -0.0053475935828877,\n",
       " 0.005291005291005291,\n",
       " -0.005235602094240838,\n",
       " 0.0051813471502590676,\n",
       " -0.005128205128205128,\n",
       " 0.005076142131979695,\n",
       " -0.005025125628140704]"
      ]
     },
     "execution_count": 3,
     "metadata": {},
     "output_type": "execute_result"
    }
   ],
   "source": [
    "fn"
   ]
  },
  {
   "cell_type": "code",
   "execution_count": 4,
   "metadata": {},
   "outputs": [],
   "source": [
    "def F(n):\n",
    "    \n",
    "    f=[]\n",
    "    \n",
    "    for n in range(0,n,1):\n",
    "        if n==0:\n",
    "            f.append(fn[0])\n",
    "        else:\n",
    "            f.append(f[n-1]+fn[n])\n",
    "            \n",
    "    return(f)"
   ]
  },
  {
   "cell_type": "code",
   "execution_count": 5,
   "metadata": {},
   "outputs": [
    {
     "data": {
      "text/plain": [
       "[1.0,\n",
       " 0.6666666666666667,\n",
       " 0.8666666666666667,\n",
       " 0.7238095238095239,\n",
       " 0.8349206349206351,\n",
       " 0.7440115440115441,\n",
       " 0.8209346209346211,\n",
       " 0.7542679542679545,\n",
       " 0.8130914836797192,\n",
       " 0.7604599047323508,\n",
       " 0.8080789523513985,\n",
       " 0.7646006914818333,\n",
       " 0.8046006914818333,\n",
       " 0.7675636544447964,\n",
       " 0.802046413065486,\n",
       " 0.769788348549357,\n",
       " 0.8000913788523872,\n",
       " 0.7715199502809587,\n",
       " 0.7985469773079856,\n",
       " 0.77290595166696,\n",
       " 0.797296195569399,\n",
       " 0.7740403816159106,\n",
       " 0.7962626038381329,\n",
       " 0.774986008093452,\n",
       " 0.7953941713587581,\n",
       " 0.7757863282215032,\n",
       " 0.7946542527498051,\n",
       " 0.7764724345679869,\n",
       " 0.7940162942171096,\n",
       " 0.7770671416747368,\n",
       " 0.7934605842976876,\n",
       " 0.7775875684246718,\n",
       " 0.7929721838092871,\n",
       " 0.7780468106749587,\n",
       " 0.7925395642981471,\n",
       " 0.7784550572558936,\n",
       " 0.7921536873928798,\n",
       " 0.7788203540595465,\n",
       " 0.7918073670465595,\n",
       " 0.7791491391984583,\n",
       " 0.7914948182108039,\n",
       " 0.7794466254397195,\n",
       " 0.7912113313220724,\n",
       " 0.7797170784485092,\n",
       " 0.790953033504689,\n",
       " 0.7799640225156781,\n",
       " 0.7907167106877211,\n",
       " 0.7801903948982474,\n",
       " 0.7904996732487628,\n",
       " 0.7803986631477527,\n",
       " 0.7902996532467627,\n",
       " 0.780590915382685,\n",
       " 0.7901147249064945,\n",
       " 0.7807689305139711,\n",
       " 0.7899432424405766,\n",
       " 0.7809342334315675,\n",
       " 0.7897837909536914,\n",
       " 0.7810881387797785,\n",
       " 0.789635147326787,\n",
       " 0.7812317859822492,\n",
       " 0.7894962487921665,\n",
       " 0.7813661674913535,\n",
       " 0.7893661674913535,\n",
       " 0.781492151743322,\n",
       " 0.7892440897278181,\n",
       " 0.7816105019415586,\n",
       " 0.7891292989340397,\n",
       " 0.7817218915266323,\n",
       " 0.789021161599625,\n",
       " 0.7818269169953085,\n",
       " 0.7889191155768688,\n",
       " 0.7819261085838618,\n",
       " 0.7888226603079997,\n",
       " 0.7820199392195644,\n",
       " 0.7887313486155375,\n",
       " 0.7821088320592461,\n",
       " 0.7886447797716644,\n",
       " 0.7821931668684385,\n",
       " 0.7885625936200309,\n",
       " 0.7822732854439303,\n",
       " 0.7884844655681539,\n",
       " 0.7823494962430005,\n",
       " 0.7884101023036066,\n",
       " 0.7824220783515108,\n",
       " 0.7883392381148244,\n",
       " 0.7824912848984502,\n",
       " 0.7882716317192595,\n",
       " 0.7825573460049738,\n",
       " 0.7882070635190981,\n",
       " 0.7826204713403271,\n",
       " 0.7881453332187801,\n",
       " 0.7826808523444632,\n",
       " 0.7880862577498686,\n",
       " 0.7827386641669809,\n",
       " 0.7880296694579862,\n",
       " 0.7827940673637455,\n",
       " 0.7879754145140045,\n",
       " 0.7828472093857994,\n",
       " 0.7879233515177791,\n",
       " 0.7828982258896384]"
      ]
     },
     "execution_count": 5,
     "metadata": {},
     "output_type": "execute_result"
    }
   ],
   "source": [
    "F(100)"
   ]
  },
  {
   "cell_type": "markdown",
   "metadata": {},
   "source": [
    "2.그래프"
   ]
  },
  {
   "cell_type": "code",
   "execution_count": 6,
   "metadata": {},
   "outputs": [],
   "source": [
    "import numpy as np\n",
    "import matplotlib.pyplot as plt"
   ]
  },
  {
   "cell_type": "code",
   "execution_count": 7,
   "metadata": {},
   "outputs": [
    {
     "data": {
      "text/plain": [
       "3.141592653589793"
      ]
     },
     "execution_count": 7,
     "metadata": {},
     "output_type": "execute_result"
    }
   ],
   "source": [
    "np.pi"
   ]
  },
  {
   "cell_type": "code",
   "execution_count": 8,
   "metadata": {},
   "outputs": [],
   "source": [
    "a=F(100)\n",
    "b=[s for s in range (100)]\n",
    "c=[np.pi/4 for s in range (100)]"
   ]
  },
  {
   "cell_type": "code",
   "execution_count": 9,
   "metadata": {},
   "outputs": [
    {
     "data": {
      "text/plain": [
       "<matplotlib.legend.Legend at 0x1c402b94a60>"
      ]
     },
     "execution_count": 9,
     "metadata": {},
     "output_type": "execute_result"
    },
    {
     "data": {
      "image/png": "[encoded data removed]",
      "text/plain": [
       "<Figure size 432x288 with 1 Axes>"
      ]
     },
     "metadata": {
      "needs_background": "light"
     },
     "output_type": "display_data"
    }
   ],
   "source": [
    "plt.plot(b,a ,'_-',color='pink',label='Leibniz formula for pi')\n",
    "plt.plot(b,c,'_-',color='skyblue', label='${pi}/{4}$')\n",
    "plt.xlabel('x')\n",
    "plt.xlabel(r'$\\ n$',rotation=0)\n",
    "plt.ylabel('y', rotation=0)\n",
    "plt.legend()"
   ]
  },
  {
   "cell_type": "markdown",
   "metadata": {},
   "source": [
    "# Logistic Map"
   ]
  },
  {
   "cell_type": "markdown",
   "metadata": {},
   "source": [
    "1. 함수"
   ]
  },
  {
   "cell_type": "code",
   "execution_count": 1,
   "metadata": {},
   "outputs": [],
   "source": [
    "def f(r,y):\n",
    "    fn=[]\n",
    "    for n in range(1,100):\n",
    "        y=r*y*(1-y)\n",
    "        fn.append(y)\n",
    "    return fn"
   ]
  },
  {
   "cell_type": "code",
   "execution_count": 2,
   "metadata": {},
   "outputs": [
    {
     "data": {
      "text/plain": [
       "[0.125,\n",
       " 0.0546875,\n",
       " 0.025848388671875,\n",
       " 0.012590124737471342,\n",
       " 0.006215806748283127,\n",
       " 0.0030885852473755623,\n",
       " 0.0015395229442726282,\n",
       " 0.0007685764066883431,\n",
       " 0.00038399284849771257,\n",
       " 0.0001919226989950076,\n",
       " 9.594293233630902e-05,\n",
       " 4.7966863645021866e-05,\n",
       " 2.3982281412506963e-05,\n",
       " 1.1990853131342606e-05,\n",
       " 5.9953546753918944e-06,\n",
       " 2.9976593655571054e-06,\n",
       " 1.4988251897977167e-06,\n",
       " 7.494114716603835e-07,\n",
       " 3.747054550214148e-07,\n",
       " 1.873526573086184e-07,\n",
       " 9.36763111038001e-08,\n",
       " 4.683815116427442e-08,\n",
       " 2.341907448523101e-08,\n",
       " 1.170953696838898e-08,\n",
       " 5.854768415637862e-09,\n",
       " 2.9273841906797743e-09,\n",
       " 1.463692091055098e-09,\n",
       " 7.318460444563517e-10,\n",
       " 3.6592302196037656e-10,\n",
       " 1.8296151091323845e-10,\n",
       " 9.148075543988177e-11,\n",
       " 4.574037771575652e-11,\n",
       " 2.2870188856832168e-11,\n",
       " 1.1435094428154562e-11,\n",
       " 5.717547214011901e-12,\n",
       " 2.858773606989605e-12,\n",
       " 1.4293868034907161e-12,\n",
       " 7.146934017443365e-13,\n",
       " 3.573467008719129e-13,\n",
       " 1.7867335043589258e-13,\n",
       " 8.933667521793034e-14,\n",
       " 4.466833760896117e-14,\n",
       " 2.233416880447959e-14,\n",
       " 1.1167084402239545e-14,\n",
       " 5.58354220111971e-15,\n",
       " 2.7917711005598398e-15,\n",
       " 1.395885550279916e-15,\n",
       " 6.97942775139957e-16,\n",
       " 3.4897138756997825e-16,\n",
       " 1.7448569378498908e-16,\n",
       " 8.724284689249451e-17,\n",
       " 4.362142344624725e-17,\n",
       " 2.1810711723123625e-17,\n",
       " 1.0905355861561813e-17,\n",
       " 5.452677930780906e-18,\n",
       " 2.726338965390453e-18,\n",
       " 1.3631694826952266e-18,\n",
       " 6.815847413476133e-19,\n",
       " 3.4079237067380664e-19,\n",
       " 1.7039618533690332e-19,\n",
       " 8.519809266845166e-20,\n",
       " 4.259904633422583e-20,\n",
       " 2.1299523167112915e-20,\n",
       " 1.0649761583556458e-20,\n",
       " 5.324880791778229e-21,\n",
       " 2.6624403958891144e-21,\n",
       " 1.3312201979445572e-21,\n",
       " 6.656100989722786e-22,\n",
       " 3.328050494861393e-22,\n",
       " 1.6640252474306965e-22,\n",
       " 8.320126237153482e-23,\n",
       " 4.160063118576741e-23,\n",
       " 2.0800315592883706e-23,\n",
       " 1.0400157796441853e-23,\n",
       " 5.2000788982209266e-24,\n",
       " 2.6000394491104633e-24,\n",
       " 1.3000197245552316e-24,\n",
       " 6.500098622776158e-25,\n",
       " 3.250049311388079e-25,\n",
       " 1.6250246556940395e-25,\n",
       " 8.125123278470198e-26,\n",
       " 4.062561639235099e-26,\n",
       " 2.0312808196175494e-26,\n",
       " 1.0156404098087747e-26,\n",
       " 5.0782020490438736e-27,\n",
       " 2.5391010245219368e-27,\n",
       " 1.2695505122609684e-27,\n",
       " 6.347752561304842e-28,\n",
       " 3.173876280652421e-28,\n",
       " 1.5869381403262105e-28,\n",
       " 7.934690701631052e-29,\n",
       " 3.967345350815526e-29,\n",
       " 1.983672675407763e-29,\n",
       " 9.918363377038816e-30,\n",
       " 4.959181688519408e-30,\n",
       " 2.479590844259704e-30,\n",
       " 1.239795422129852e-30,\n",
       " 6.19897711064926e-31,\n",
       " 3.09948855532463e-31]"
      ]
     },
     "execution_count": 2,
     "metadata": {},
     "output_type": "execute_result"
    }
   ],
   "source": [
    "f(0.5,0.5)"
   ]
  },
  {
   "cell_type": "code",
   "execution_count": 3,
   "metadata": {},
   "outputs": [
    {
     "data": {
      "text/plain": [
       "[0.2375,\n",
       " 0.17203906249999998,\n",
       " 0.135319542300415,\n",
       " 0.11115775558342016,\n",
       " 0.09386162350922293,\n",
       " 0.08079903818436403,\n",
       " 0.07055702593220342,\n",
       " 0.062299795422615496,\n",
       " 0.05549760436726996,\n",
       " 0.04979673926292574,\n",
       " 0.04495117282062064,\n",
       " 0.04078403663853777,\n",
       " 0.03716466404430396,\n",
       " 0.03399427920123908,\n",
       " 0.031196734773685918,\n",
       " 0.028712323587488903,\n",
       " 0.02649352975861142,\n",
       " 0.02450204150756394,\n",
       " 0.022706606896049274,\n",
       " 0.021081466054351683,\n",
       " 0.019605185951183355,\n",
       " 0.018259781503252734,\n",
       " 0.017030043788570894,\n",
       " 0.01590302032727374,\n",
       " 0.014867608558156855,\n",
       " 0.013914234635222362,\n",
       " 0.013034597274251422,\n",
       " 0.012221461720742025,\n",
       " 0.011468492714442939,\n",
       " 0.010770118069836621,\n",
       " 0.01012141649526848,\n",
       " 0.009518024752227898,\n",
       " 0.008956060359191682,\n",
       " 0.008432056874932486,\n",
       " 0.00794290942720087,\n",
       " 0.007485828636180546,\n",
       " 0.007058301455519771,\n",
       " 0.006658057744278639,\n",
       " 0.006283041610784866,\n",
       " 0.005931386748956911,\n",
       " 0.005601395130181649,\n",
       " 0.005291518527638365,\n",
       " 0.005000342441344523,\n",
       " 0.004726572065973121,\n",
       " 0.0044690200033543695,\n",
       " 0.004226595470385788,\n",
       " 0.003998294793059727,\n",
       " 0.003783193010217142,\n",
       " 0.0035804364378213566,\n",
       " 0.003389236067099274,\n",
       " 0.0032088616886817097,\n",
       " 0.003038636650577389,\n",
       " 0.002877933170988999,\n",
       " 0.0027261681380697043,\n",
       " 0.002582799338085044,\n",
       " 0.00244732206138102,\n",
       " 0.002319266042303453,\n",
       " 0.002198192694962047,\n",
       " 0.002083692611645969,\n",
       " 0.0019753832949088337,\n",
       " 0.0018729070979596773,\n",
       " 0.001775929351113985,\n",
       " 0.0016841366547511447,\n",
       " 0.001597235321555305,\n",
       " 0.001514949952838737,\n",
       " 0.0014370221355051742,\n",
       " 0.00136320924774288,\n",
       " 0.0012932833628752608,\n",
       " 0.0012270302419676422,\n",
       " 0.0011642484068152918,\n",
       " 0.001104748285839394,\n",
       " 0.0010483514262111125,\n",
       " 0.00099488976622336,\n",
       " 0.0009442049625476028,\n",
       " 0.0008961477675594881,\n",
       " 0.0008505774524012769,\n",
       " 0.0008073612718788062,\n",
       " 0.0007663739676727025,\n",
       " 0.0007274973066836572,\n",
       " 0.0006906196516348039,\n",
       " 0.0006556355613250008,\n",
       " 0.0006224454181689406,\n",
       " 0.000590955080876824,\n",
       " 0.0005610755603207493,\n",
       " 0.0005327227168095421,\n",
       " 0.0005058169771507103,\n",
       " 0.0004802830700195195,\n",
       " 0.0004560497782825635,\n",
       " 0.00043304970703817727,\n",
       " 0.0004112190662399408,\n",
       " 0.0003904974668635264,\n",
       " 0.0003708277296623046,\n",
       " 0.00035215570563435714,\n",
       " 0.000334430107393679,\n",
       " 0.0003176023507021003,\n",
       " 0.0003016264054764823,\n",
       " 0.00028645865563860153,\n",
       " 0.0002720577672233507,\n",
       " 0.0002583845642049119]"
      ]
     },
     "execution_count": 3,
     "metadata": {},
     "output_type": "execute_result"
    }
   ],
   "source": [
    "f(0.95,0.5)"
   ]
  },
  {
   "cell_type": "code",
   "execution_count": 4,
   "metadata": {},
   "outputs": [
    {
     "data": {
      "text/plain": [
       "[0.5,\n",
       " 0.5,\n",
       " 0.5,\n",
       " 0.5,\n",
       " 0.5,\n",
       " 0.5,\n",
       " 0.5,\n",
       " 0.5,\n",
       " 0.5,\n",
       " 0.5,\n",
       " 0.5,\n",
       " 0.5,\n",
       " 0.5,\n",
       " 0.5,\n",
       " 0.5,\n",
       " 0.5,\n",
       " 0.5,\n",
       " 0.5,\n",
       " 0.5,\n",
       " 0.5,\n",
       " 0.5,\n",
       " 0.5,\n",
       " 0.5,\n",
       " 0.5,\n",
       " 0.5,\n",
       " 0.5,\n",
       " 0.5,\n",
       " 0.5,\n",
       " 0.5,\n",
       " 0.5,\n",
       " 0.5,\n",
       " 0.5,\n",
       " 0.5,\n",
       " 0.5,\n",
       " 0.5,\n",
       " 0.5,\n",
       " 0.5,\n",
       " 0.5,\n",
       " 0.5,\n",
       " 0.5,\n",
       " 0.5,\n",
       " 0.5,\n",
       " 0.5,\n",
       " 0.5,\n",
       " 0.5,\n",
       " 0.5,\n",
       " 0.5,\n",
       " 0.5,\n",
       " 0.5,\n",
       " 0.5,\n",
       " 0.5,\n",
       " 0.5,\n",
       " 0.5,\n",
       " 0.5,\n",
       " 0.5,\n",
       " 0.5,\n",
       " 0.5,\n",
       " 0.5,\n",
       " 0.5,\n",
       " 0.5,\n",
       " 0.5,\n",
       " 0.5,\n",
       " 0.5,\n",
       " 0.5,\n",
       " 0.5,\n",
       " 0.5,\n",
       " 0.5,\n",
       " 0.5,\n",
       " 0.5,\n",
       " 0.5,\n",
       " 0.5,\n",
       " 0.5,\n",
       " 0.5,\n",
       " 0.5,\n",
       " 0.5,\n",
       " 0.5,\n",
       " 0.5,\n",
       " 0.5,\n",
       " 0.5,\n",
       " 0.5,\n",
       " 0.5,\n",
       " 0.5,\n",
       " 0.5,\n",
       " 0.5,\n",
       " 0.5,\n",
       " 0.5,\n",
       " 0.5,\n",
       " 0.5,\n",
       " 0.5,\n",
       " 0.5,\n",
       " 0.5,\n",
       " 0.5,\n",
       " 0.5,\n",
       " 0.5,\n",
       " 0.5,\n",
       " 0.5,\n",
       " 0.5,\n",
       " 0.5,\n",
       " 0.5]"
      ]
     },
     "execution_count": 4,
     "metadata": {},
     "output_type": "execute_result"
    }
   ],
   "source": [
    "f(2,0.5)"
   ]
  },
  {
   "cell_type": "code",
   "execution_count": 5,
   "metadata": {},
   "outputs": [
    {
     "data": {
      "text/plain": [
       "[0.8,\n",
       " 0.512,\n",
       " 0.7995392,\n",
       " 0.512884056522752,\n",
       " 0.7994688034800593,\n",
       " 0.5130189943751092,\n",
       " 0.7994576185134749,\n",
       " 0.5130404310855622,\n",
       " 0.7994558309027286,\n",
       " 0.5130438570827405,\n",
       " 0.7994555449356961,\n",
       " 0.5130444051432489,\n",
       " 0.7994554991822682,\n",
       " 0.5130444928303954,\n",
       " 0.7994554918617529,\n",
       " 0.5130445068602741,\n",
       " 0.7994554906904713,\n",
       " 0.5130445091050531,\n",
       " 0.7994554905030663,\n",
       " 0.5130445094642175,\n",
       " 0.7994554904730814,\n",
       " 0.5130445095216841,\n",
       " 0.7994554904682839,\n",
       " 0.5130445095308785,\n",
       " 0.7994554904675163,\n",
       " 0.5130445095323497,\n",
       " 0.7994554904673934,\n",
       " 0.5130445095325852,\n",
       " 0.7994554904673739,\n",
       " 0.5130445095326227,\n",
       " 0.7994554904673707,\n",
       " 0.5130445095326286,\n",
       " 0.7994554904673701,\n",
       " 0.5130445095326298,\n",
       " 0.7994554904673701,\n",
       " 0.5130445095326298,\n",
       " 0.7994554904673701,\n",
       " 0.5130445095326298,\n",
       " 0.7994554904673701,\n",
       " 0.5130445095326298,\n",
       " 0.7994554904673701,\n",
       " 0.5130445095326298,\n",
       " 0.7994554904673701,\n",
       " 0.5130445095326298,\n",
       " 0.7994554904673701,\n",
       " 0.5130445095326298,\n",
       " 0.7994554904673701,\n",
       " 0.5130445095326298,\n",
       " 0.7994554904673701,\n",
       " 0.5130445095326298,\n",
       " 0.7994554904673701,\n",
       " 0.5130445095326298,\n",
       " 0.7994554904673701,\n",
       " 0.5130445095326298,\n",
       " 0.7994554904673701,\n",
       " 0.5130445095326298,\n",
       " 0.7994554904673701,\n",
       " 0.5130445095326298,\n",
       " 0.7994554904673701,\n",
       " 0.5130445095326298,\n",
       " 0.7994554904673701,\n",
       " 0.5130445095326298,\n",
       " 0.7994554904673701,\n",
       " 0.5130445095326298,\n",
       " 0.7994554904673701,\n",
       " 0.5130445095326298,\n",
       " 0.7994554904673701,\n",
       " 0.5130445095326298,\n",
       " 0.7994554904673701,\n",
       " 0.5130445095326298,\n",
       " 0.7994554904673701,\n",
       " 0.5130445095326298,\n",
       " 0.7994554904673701,\n",
       " 0.5130445095326298,\n",
       " 0.7994554904673701,\n",
       " 0.5130445095326298,\n",
       " 0.7994554904673701,\n",
       " 0.5130445095326298,\n",
       " 0.7994554904673701,\n",
       " 0.5130445095326298,\n",
       " 0.7994554904673701,\n",
       " 0.5130445095326298,\n",
       " 0.7994554904673701,\n",
       " 0.5130445095326298,\n",
       " 0.7994554904673701,\n",
       " 0.5130445095326298,\n",
       " 0.7994554904673701,\n",
       " 0.5130445095326298,\n",
       " 0.7994554904673701,\n",
       " 0.5130445095326298,\n",
       " 0.7994554904673701,\n",
       " 0.5130445095326298,\n",
       " 0.7994554904673701,\n",
       " 0.5130445095326298,\n",
       " 0.7994554904673701,\n",
       " 0.5130445095326298,\n",
       " 0.7994554904673701,\n",
       " 0.5130445095326298,\n",
       " 0.7994554904673701]"
      ]
     },
     "execution_count": 5,
     "metadata": {},
     "output_type": "execute_result"
    }
   ],
   "source": [
    "f(3.2,0.5)"
   ]
  },
  {
   "cell_type": "code",
   "execution_count": 6,
   "metadata": {},
   "outputs": [
    {
     "data": {
      "text/plain": [
       "[0.95,\n",
       " 0.18050000000000016,\n",
       " 0.5620950500000005,\n",
       " 0.9353479781088904,\n",
       " 0.22979412423470422,\n",
       " 0.6725573818672562,\n",
       " 0.8368510098598481,\n",
       " 0.5188193091943221,\n",
       " 0.9486541676855043,\n",
       " 0.1850958637100242,\n",
       " 0.5731744628003645,\n",
       " 0.9296528923767365,\n",
       " 0.2485138898747569,\n",
       " 0.7096679983734816,\n",
       " 0.7829494557406192,\n",
       " 0.6457705008851319,\n",
       " 0.8692536520724515,\n",
       " 0.43187661363839625,\n",
       " 0.932364976076385,\n",
       " 0.23963000435737464,\n",
       " 0.6923883684024251,\n",
       " 0.8093495196731204,\n",
       " 0.5863509237764368,\n",
       " 0.9216653682592327,\n",
       " 0.2743536054010614,\n",
       " 0.7565180774971003,\n",
       " 0.6999542084853282,\n",
       " 0.7980695951342224,\n",
       " 0.6123871625347789,\n",
       " 0.9020026776500485,\n",
       " 0.3358966192163266,\n",
       " 0.8476663055784008,\n",
       " 0.4906869318687708,\n",
       " 0.9496704136955357,\n",
       " 0.18162677237816585,\n",
       " 0.5648262541478919,\n",
       " 0.9340307157379811,\n",
       " 0.23414588362470812,\n",
       " 0.6814220374639884,\n",
       " 0.8249269684251775,\n",
       " 0.5488053677220899,\n",
       " 0.940948537109744,\n",
       " 0.21114467295895145,\n",
       " 0.6329378801520338,\n",
       " 0.8828445760785973,\n",
       " 0.3930341161553565,\n",
       " 0.90652153883467,\n",
       " 0.32201290616126915,\n",
       " 0.8296182588220027,\n",
       " 0.5371368531143748,\n",
       " 0.9447592457348931,\n",
       " 0.19831901066665003,\n",
       " 0.6041566065644344,\n",
       " 0.9087753249741302,\n",
       " 0.31503038803071826,\n",
       " 0.8199877220621468,\n",
       " 0.5609098593720175,\n",
       " 0.9359019583188679,\n",
       " 0.22796003438834858,\n",
       " 0.6687781770180438,\n",
       " 0.8417529224573704,\n",
       " 0.5061787719690168,\n",
       " 0.9498549265524285,\n",
       " 0.18099607121473468,\n",
       " 0.5632986749943484,\n",
       " 0.9347744554270475,\n",
       " 0.23169045705083424,\n",
       " 0.6764379588171572,\n",
       " 0.8317046574160535,\n",
       " 0.5318936769442946,\n",
       " 0.9461346148096973,\n",
       " 0.1936628407806915,\n",
       " 0.5933986705494873,\n",
       " 0.9168514156904357,\n",
       " 0.28969260950014236,\n",
       " 0.7819290457043333,\n",
       " 0.6479608501153269,\n",
       " 0.8668088299659691,\n",
       " 0.43871487258418773,\n",
       " 0.935727705998985,\n",
       " 0.22853719165447586,\n",
       " 0.6699701860036127,\n",
       " 0.8402185163056098,\n",
       " 0.510155172418676,\n",
       " 0.9496081153979583,\n",
       " 0.18183966175952557,\n",
       " 0.5653411968486862,\n",
       " 0.9337760063786485,\n",
       " 0.23498582990272446,\n",
       " 0.6831164606610788,\n",
       " 0.8225797749728464,\n",
       " 0.5545806973581775,\n",
       " 0.9386796004084011,\n",
       " 0.21872879110499685,\n",
       " 0.6493687267776252,\n",
       " 0.8652181371511583,\n",
       " 0.4431397067241835,\n",
       " 0.9377142467846348,\n",
       " 0.2219437050146874]"
      ]
     },
     "execution_count": 6,
     "metadata": {},
     "output_type": "execute_result"
    }
   ],
   "source": [
    "f(3.8,0.5)"
   ]
  },
  {
   "cell_type": "code",
   "execution_count": 7,
   "metadata": {},
   "outputs": [
    {
     "data": {
      "text/plain": [
       "[0.9499962,\n",
       " 0.18051299594512815,\n",
       " 0.5621266061121607,\n",
       " 0.9353330822893409,\n",
       " 0.22984340836495548,\n",
       " 0.672658580785316,\n",
       " 0.8367182550285618,\n",
       " 0.5191591035759776,\n",
       " 0.9486051292506268,\n",
       " 0.18526306443810803,\n",
       " 0.5735745132938159,\n",
       " 0.9294298057755966,\n",
       " 0.2492421592638267,\n",
       " 0.7110579201754613,\n",
       " 0.7807273064585927,\n",
       " 0.6505302817523129,\n",
       " 0.8638944102471634,\n",
       " 0.4468072611253027,\n",
       " 0.9392480236178316,\n",
       " 0.21683246024174982,\n",
       " 0.6453013488235873,\n",
       " 0.8697725685141756,\n",
       " 0.43041934078283134,\n",
       " 0.931602421079036,\n",
       " 0.24213353045111505,\n",
       " 0.6973185587530971,\n",
       " 0.8020484682120821,\n",
       " 0.6033135468327924,\n",
       " 0.909439981955148,\n",
       " 0.3129638244709588,\n",
       " 0.8170663823651848,\n",
       " 0.5679818548606468,\n",
       " 0.9324381761568826,\n",
       " 0.239389450448014,\n",
       " 0.691912137556405,\n",
       " 0.8100449795424196,\n",
       " 0.5847140205100543,\n",
       " 0.9227294319702839,\n",
       " 0.27093934391510827,\n",
       " 0.750618620169044,\n",
       " 0.7113231674533448,\n",
       " 0.7803015718104452,\n",
       " 0.6514379095942564,\n",
       " 0.8628529262433429,\n",
       " 0.4496834648832441,\n",
       " 0.940379335916608,\n",
       " 0.21305095389105969,\n",
       " 0.6371089307612432,\n",
       " 0.8785643362009328,\n",
       " 0.40541836475563914,\n",
       " 0.9160063942431101,\n",
       " 0.2923669838056148,\n",
       " 0.7861764162268842,\n",
       " 0.6387916234230412,\n",
       " 0.8768001640168674,\n",
       " 0.4104822183080748,\n",
       " 0.919548953691636,\n",
       " 0.2811189667337631,\n",
       " 0.7679461544499571,\n",
       " 0.677178461598823,\n",
       " 0.8307096124328026,\n",
       " 0.5343983785292729,\n",
       " 0.9455036559073161,\n",
       " 0.1958006717782196,\n",
       " 0.5983585210957866,\n",
       " 0.9132372850458288,\n",
       " 0.30109279574221925,\n",
       " 0.7996565115585432,\n",
       " 0.6087827053061456,\n",
       " 0.9050320274998498,\n",
       " 0.3266064154575715,\n",
       " 0.8357517263902052,\n",
       " 0.5216289572587877,\n",
       " 0.9482223151900105,\n",
       " 0.186567673429686,\n",
       " 0.5766886713107362,\n",
       " 0.9276516212318566,\n",
       " 0.2550335452595056,\n",
       " 0.7219674569971185,\n",
       " 0.7627757025300829,\n",
       " 0.6876059346073213,\n",
       " 0.8162552505404311,\n",
       " 0.5699339427213147,\n",
       " 0.9314151258907172,\n",
       " 0.24274775878024726,\n",
       " 0.6985208806721738,\n",
       " 0.8002399477611492,\n",
       " 0.6074527003198532,\n",
       " 0.9061248853370929,\n",
       " 0.3232377945377459,\n",
       " 0.8312694663364555,\n",
       " 0.5329900545580079,\n",
       " 0.9458642939409866,\n",
       " 0.19457911927632093,\n",
       " 0.5955287253482944,\n",
       " 0.9153221980066545,\n",
       " 0.29452839300310085,\n",
       " 0.789569391128825,\n",
       " 0.63136835734087]"
      ]
     },
     "execution_count": 7,
     "metadata": {},
     "output_type": "execute_result"
    }
   ],
   "source": [
    "f(3.8,0.501)"
   ]
  },
  {
   "cell_type": "markdown",
   "metadata": {},
   "source": [
    "2. 그래프"
   ]
  },
  {
   "cell_type": "code",
   "execution_count": 8,
   "metadata": {},
   "outputs": [],
   "source": [
    "import numpy as np\n",
    "import matplotlib.pyplot as plt"
   ]
  },
  {
   "cell_type": "code",
   "execution_count": 9,
   "metadata": {},
   "outputs": [],
   "source": [
    "def f(r,y):\n",
    "    fn=[]\n",
    "    for n in range(1,100):\n",
    "        y=r*y*(1-y)\n",
    "        fn.append(y)\n",
    "    return fn"
   ]
  },
  {
   "cell_type": "code",
   "execution_count": 20,
   "metadata": {},
   "outputs": [
    {
     "data": {
      "text/plain": [
       "[<matplotlib.lines.Line2D at 0x1e76be25cd0>]"
      ]
     },
     "execution_count": 20,
     "metadata": {},
     "output_type": "execute_result"
    },
    {
     "data": {
      "image/png": "[encoded data removed]",
      "text/plain": [
       "<Figure size 432x288 with 1 Axes>"
      ]
     },
     "metadata": {
      "needs_background": "light"
     },
     "output_type": "display_data"
    }
   ],
   "source": [
    "plt.plot(f(0.5,0.5),color='gray')"
   ]
  },
  {
   "cell_type": "code",
   "execution_count": 21,
   "metadata": {},
   "outputs": [
    {
     "data": {
      "text/plain": [
       "[<matplotlib.lines.Line2D at 0x1e76bb5bac0>]"
      ]
     },
     "execution_count": 21,
     "metadata": {},
     "output_type": "execute_result"
    },
    {
     "data": {
      "image/png": "[encoded data removed]",
      "text/plain": [
       "<Figure size 432x288 with 1 Axes>"
      ]
     },
     "metadata": {
      "needs_background": "light"
     },
     "output_type": "display_data"
    }
   ],
   "source": [
    "plt.plot(f(0.95,0.5),color='black')"
   ]
  },
  {
   "cell_type": "code",
   "execution_count": 22,
   "metadata": {},
   "outputs": [
    {
     "data": {
      "text/plain": [
       "[<matplotlib.lines.Line2D at 0x1e76bc11d60>]"
      ]
     },
     "execution_count": 22,
     "metadata": {},
     "output_type": "execute_result"
    },
    {
     "data": {
      "image/png": "[encoded data removed]",
      "text/plain": [
       "<Figure size 432x288 with 1 Axes>"
      ]
     },
     "metadata": {
      "needs_background": "light"
     },
     "output_type": "display_data"
    }
   ],
   "source": [
    "plt.plot(f(2,0.5),color='green')"
   ]
  },
  {
   "cell_type": "code",
   "execution_count": 23,
   "metadata": {},
   "outputs": [
    {
     "data": {
      "text/plain": [
       "[<matplotlib.lines.Line2D at 0x1e76bf0ba30>]"
      ]
     },
     "execution_count": 23,
     "metadata": {},
     "output_type": "execute_result"
    },
    {
     "data": {
      "image/png": "[encoded data removed]",
      "text/plain": [
       "<Figure size 432x288 with 1 Axes>"
      ]
     },
     "metadata": {
      "needs_background": "light"
     },
     "output_type": "display_data"
    }
   ],
   "source": [
    "plt.plot(f(3.2,0.5),color='lavender')"
   ]
  },
  {
   "cell_type": "code",
   "execution_count": 24,
   "metadata": {},
   "outputs": [
    {
     "data": {
      "text/plain": [
       "[<matplotlib.lines.Line2D at 0x1e76cf376d0>]"
      ]
     },
     "execution_count": 24,
     "metadata": {},
     "output_type": "execute_result"
    },
    {
     "data": {
      "image/png": "[encoded data removed]",
      "text/plain": [
       "<Figure size 432x288 with 1 Axes>"
      ]
     },
     "metadata": {
      "needs_background": "light"
     },
     "output_type": "display_data"
    }
   ],
   "source": [
    "plt.plot(f(3.8,0.5),color='pink')"
   ]
  },
  {
   "cell_type": "code",
   "execution_count": 25,
   "metadata": {},
   "outputs": [
    {
     "data": {
      "text/plain": [
       "[<matplotlib.lines.Line2D at 0x1e76cf8d9d0>]"
      ]
     },
     "execution_count": 25,
     "metadata": {},
     "output_type": "execute_result"
    },
    {
     "data": {
      "image/png": "[encoded data removed]",
      "text/plain": [
       "<Figure size 432x288 with 1 Axes>"
      ]
     },
     "metadata": {
      "needs_background": "light"
     },
     "output_type": "display_data"
    }
   ],
   "source": [
    "plt.plot(f(3.8,0.501),color='skyblue')"
   ]
  },
  {
   "cell_type": "markdown",
   "metadata": {},
   "source": [
    "# Sinc fuction"
   ]
  },
  {
   "cell_type": "code",
   "execution_count": 133,
   "metadata": {},
   "outputs": [],
   "source": [
    "import numpy as np\n",
    "import matplotlib.pyplot as plt"
   ]
  },
  {
   "cell_type": "code",
   "execution_count": 134,
   "metadata": {},
   "outputs": [
    {
     "data": {
      "text/plain": [
       "[<matplotlib.lines.Line2D at 0x22ff68fc2b0>]"
      ]
     },
     "execution_count": 134,
     "metadata": {},
     "output_type": "execute_result"
    },
    {
     "data": {
      "image/png": "[encoded data removed]",
      "text/plain": [
       "<Figure size 576x576 with 1 Axes>"
      ]
     },
     "metadata": {
      "needs_background": "light"
     },
     "output_type": "display_data"
    }
   ],
   "source": [
    "a=np.arange(-20,20,0.01)\n",
    "b=[np.sin(x)/x for x in a]\n",
    "plt.figure(figsize=(8,8))\n",
    "plt.plot(a,b)"
   ]
  },
  {
   "cell_type": "markdown",
   "metadata": {},
   "source": [
    "2. 테일러 전개"
   ]
  },
  {
   "cell_type": "code",
   "execution_count": 189,
   "metadata": {},
   "outputs": [],
   "source": [
    "import numpy as np\n",
    "import matplotlib.pyplot as plt\n",
    "import math"
   ]
  },
  {
   "cell_type": "code",
   "execution_count": 201,
   "metadata": {},
   "outputs": [],
   "source": [
    "def f(n):\n",
    "    i,y=0,0\n",
    "    for i in range(0,n+1):\n",
    "        x=np.arange(1,100,0.01)\n",
    "        y=y+(((-1)**(i))*(x**(2*i)))/(math.factorial(2*i+1))\n",
    "        i=i+1\n",
    "        \n",
    "    return y"
   ]
  },
  {
   "cell_type": "code",
   "execution_count": 203,
   "metadata": {},
   "outputs": [
    {
     "name": "stderr",
     "output_type": "stream",
     "text": [
      "<ipython-input-203-31b79c032601>:4: RuntimeWarning: invalid value encountered in double_scalars\n",
      "  b=[np.sin(x)/x for x in a]\n",
      "<ipython-input-201-6a42193adff7>:5: RuntimeWarning: overflow encountered in power\n",
      "  y=y+(((-1)**(i))*(x**(2*i)))/(math.factorial(2*i+1))\n",
      "<ipython-input-201-6a42193adff7>:5: RuntimeWarning: invalid value encountered in add\n",
      "  y=y+(((-1)**(i))*(x**(2*i)))/(math.factorial(2*i+1))\n"
     ]
    },
    {
     "data": {
      "text/plain": [
       "<matplotlib.legend.Legend at 0x22ffb945d60>"
      ]
     },
     "execution_count": 203,
     "metadata": {},
     "output_type": "execute_result"
    },
    {
     "data": {
      "image/png": "[encoded data removed]",
      "text/plain": [
       "<Figure size 864x720 with 6 Axes>"
      ]
     },
     "metadata": {
      "needs_background": "light"
     },
     "output_type": "display_data"
    }
   ],
   "source": [
    "plt.figure(figsize=(12,10))\n",
    "\n",
    "a=np.arange(0,100,0.01)\n",
    "b=[np.sin(x)/x for x in a]\n",
    "\n",
    "plt.subplot(231)\n",
    "plt.plot(a,b,label='$ sin(x)/x $')\n",
    "plt.legend()\n",
    "\n",
    "plt.subplot(232)\n",
    "plt.plot(f(0),label='n=0')\n",
    "plt.legend()\n",
    "\n",
    "plt.subplot(233)\n",
    "plt.plot(f(5),label='n=5')\n",
    "plt.legend()\n",
    "\n",
    "plt.subplot(234)\n",
    "plt.plot(f(20),label='n=20')\n",
    "plt.legend()\n",
    "\n",
    "plt.subplot(235)\n",
    "plt.plot(f(50),label='n=50')\n",
    "plt.legend()\n",
    "\n",
    "plt.subplot(236)\n",
    "plt.plot(f(80),label='n=80')\n",
    "plt.legend()"
   ]
  }
 ],
 "metadata": {
  "kernelspec": {
   "display_name": "Python 3",
   "language": "python",
   "name": "python3"
  },
  "language_info": {
   "codemirror_mode": {
    "name": "ipython",
    "version": 3
   },
   "file_extension": ".py",
   "mimetype": "text/x-python",
   "name": "python",
   "nbconvert_exporter": "python",
   "pygments_lexer": "ipython3",
   "version": "3.8.5"
  }
 },
 "nbformat": 4,
 "nbformat_minor": 4
}
